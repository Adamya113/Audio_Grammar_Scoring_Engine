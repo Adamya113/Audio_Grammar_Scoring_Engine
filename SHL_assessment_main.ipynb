{
  "metadata": {
    "kernelspec": {
      "language": "python",
      "display_name": "Python 3",
      "name": "python3"
    },
    "language_info": {
      "name": "python",
      "version": "3.11.11",
      "mimetype": "text/x-python",
      "codemirror_mode": {
        "name": "ipython",
        "version": 3
      },
      "pygments_lexer": "ipython3",
      "nbconvert_exporter": "python",
      "file_extension": ".py"
    },
    "kaggle": {
      "accelerator": "gpu",
      "dataSources": [
        {
          "sourceId": 97919,
          "databundleVersionId": 11872932,
          "sourceType": "competition"
        }
      ],
      "dockerImageVersionId": 31011,
      "isInternetEnabled": true,
      "language": "python",
      "sourceType": "notebook",
      "isGpuEnabled": true
    },
    "colab": {
      "provenance": []
    }
  },
  "nbformat_minor": 0,
  "nbformat": 4,
  "cells": [
    {
      "cell_type": "code",
      "source": [
        "# (Optional) Only if data is required from Kaggle\n",
        "# IMPORTANT: SOME KAGGLE DATA SOURCES ARE PRIVATE\n",
        "# RUN THIS CELL IN ORDER TO IMPORT YOUR KAGGLE DATA SOURCES.\n",
        "import kagglehub\n",
        "kagglehub.login()\n",
        "shl_intern_hiring_assessment_path = kagglehub.competition_download('shl-intern-hiring-assessment')\n",
        "print('Data source import complete.')"
      ],
      "metadata": {
        "id": "KdHJIsUrIDw2"
      },
      "execution_count": null,
      "outputs": []
    },
    {
      "cell_type": "markdown",
      "source": [
        "# Libraries"
      ],
      "metadata": {
        "id": "FKUWKBYxJFSS"
      }
    },
    {
      "cell_type": "code",
      "source": [
        "import os\n",
        "import optuna\n",
        "import torch\n",
        "import torchaudio\n",
        "import numpy as np\n",
        "import pandas as pd\n",
        "from tqdm import tqdm\n",
        "from catboost import CatBoostRegressor, Pool\n",
        "from sklearn.model_selection import train_test_split\n",
        "from transformers import WhisperProcessor, WhisperModel\n",
        "from sklearn.metrics import make_scorer, mean_squared_error"
      ],
      "metadata": {
        "_uuid": "8f2839f25d086af736a60e9eeb907d3b93b6e0e5",
        "_cell_guid": "b1076dfc-b9ad-4769-8c92-a6c4dae69d19",
        "trusted": true,
        "execution": {
          "iopub.status.busy": "2025-05-06T17:04:24.862497Z",
          "iopub.execute_input": "2025-05-06T17:04:24.862757Z",
          "iopub.status.idle": "2025-05-06T17:04:54.700793Z",
          "shell.execute_reply.started": "2025-05-06T17:04:24.862735Z",
          "shell.execute_reply": "2025-05-06T17:04:54.7Z"
        },
        "id": "KEu0TLlpH1J0"
      },
      "outputs": [],
      "execution_count": null
    },
    {
      "cell_type": "markdown",
      "source": [
        "# Configuration and model loading"
      ],
      "metadata": {
        "id": "o5ltB0itJItw"
      }
    },
    {
      "cell_type": "code",
      "source": [
        "# ---- CONFIG ----\n",
        "BASE_DIR = \"/kaggle/input/shl-intern-hiring-assessment/Dataset\"\n",
        "TRAIN_CSV = os.path.join(BASE_DIR, \"train.csv\")\n",
        "TEST_CSV = os.path.join(BASE_DIR, \"test.csv\")\n",
        "TRAIN_AUDIO_DIR = os.path.join(BASE_DIR, \"audios\", \"train\")\n",
        "TEST_AUDIO_DIR = os.path.join(BASE_DIR, \"audios\", \"test\")\n",
        "OUTPUT_CSV = \"/kaggle/working/submission.csv\""
      ],
      "metadata": {
        "trusted": true,
        "execution": {
          "iopub.status.busy": "2025-05-06T17:04:54.701904Z",
          "iopub.execute_input": "2025-05-06T17:04:54.702584Z",
          "iopub.status.idle": "2025-05-06T17:04:54.706799Z",
          "shell.execute_reply.started": "2025-05-06T17:04:54.702563Z",
          "shell.execute_reply": "2025-05-06T17:04:54.706049Z"
        },
        "id": "1jAeeQcWH1LM"
      },
      "outputs": [],
      "execution_count": null
    },
    {
      "cell_type": "code",
      "source": [
        "# ---- DEVICE SETUP ----\n",
        "device = torch.device(\"cuda\" if torch.cuda.is_available() else \"cpu\")\n",
        "\n",
        "# ---- Load Whisper ----\n",
        "processor = WhisperProcessor.from_pretrained(\"openai/whisper-large-v3-turbo\")\n",
        "model = WhisperModel.from_pretrained(\"openai/whisper-large-v3-turbo\").to(device)\n",
        "model.eval()"
      ],
      "metadata": {
        "trusted": true,
        "execution": {
          "iopub.status.busy": "2025-05-06T17:04:54.707544Z",
          "iopub.execute_input": "2025-05-06T17:04:54.707828Z",
          "iopub.status.idle": "2025-05-06T17:05:07.051364Z",
          "shell.execute_reply.started": "2025-05-06T17:04:54.707801Z",
          "shell.execute_reply": "2025-05-06T17:05:07.050535Z"
        },
        "id": "0D_h65isH1LP"
      },
      "outputs": [],
      "execution_count": null
    },
    {
      "cell_type": "markdown",
      "source": [
        "# Preprocessing and feature extraction from audio"
      ],
      "metadata": {
        "id": "EBZTyY_gJOUS"
      }
    },
    {
      "cell_type": "code",
      "source": [
        "def extract_embedding(audio_path):\n",
        "    waveform, sr = torchaudio.load(audio_path)\n",
        "    if sr != 16000:\n",
        "        resampler = torchaudio.transforms.Resample(orig_freq=sr, new_freq=16000)\n",
        "        waveform = resampler(waveform)\n",
        "\n",
        "    waveform = waveform.mean(dim=0).numpy()  # convert to mono and to NumPy 1D\n",
        "    inputs = processor(waveform, sampling_rate=16000, return_tensors=\"pt\")\n",
        "    inputs = {k: v.to(device) for k, v in inputs.items()}\n",
        "\n",
        "    with torch.no_grad():\n",
        "        last_hidden = model.encoder(**inputs).last_hidden_state\n",
        "    return last_hidden.mean(dim=1).squeeze().cpu().numpy()\n",
        "\n",
        "# ---- Load datasets ----\n",
        "train_df = pd.read_csv(TRAIN_CSV)\n",
        "test_df = pd.read_csv(TEST_CSV)\n",
        "\n",
        "# ---- Extract embeddings ----\n",
        "def process_dataframe(df, audio_dir, extract_score=True):\n",
        "    features = []\n",
        "    labels = []\n",
        "    for idx, row in tqdm(df.iterrows(), total=len(df)):\n",
        "        audio_path = os.path.join(audio_dir, row['filename'])\n",
        "        emb = extract_embedding(audio_path)\n",
        "        features.append(emb)\n",
        "        if extract_score:\n",
        "            labels.append(row['label'])\n",
        "    return np.array(features), (np.array(labels) if extract_score else None)"
      ],
      "metadata": {
        "trusted": true,
        "execution": {
          "iopub.status.busy": "2025-05-06T17:05:07.052903Z",
          "iopub.execute_input": "2025-05-06T17:05:07.053163Z",
          "iopub.status.idle": "2025-05-06T17:05:07.091029Z",
          "shell.execute_reply.started": "2025-05-06T17:05:07.053143Z",
          "shell.execute_reply": "2025-05-06T17:05:07.090245Z"
        },
        "id": "ckMkvHXKH1LU"
      },
      "outputs": [],
      "execution_count": null
    },
    {
      "cell_type": "code",
      "source": [
        "X_train, y_train = process_dataframe(train_df, TRAIN_AUDIO_DIR, extract_score=True)\n",
        "X_test, _ = process_dataframe(test_df, TEST_AUDIO_DIR, extract_score=False)"
      ],
      "metadata": {
        "trusted": true,
        "execution": {
          "iopub.status.busy": "2025-05-06T17:05:07.091955Z",
          "iopub.execute_input": "2025-05-06T17:05:07.092242Z",
          "iopub.status.idle": "2025-05-06T17:08:37.717608Z",
          "shell.execute_reply.started": "2025-05-06T17:05:07.092216Z",
          "shell.execute_reply": "2025-05-06T17:08:37.717026Z"
        },
        "id": "QZdat6NJH1LW"
      },
      "outputs": [],
      "execution_count": null
    },
    {
      "cell_type": "code",
      "source": [
        "# Custom RMSE scorer\n",
        "def rmse(y_true, y_pred):\n",
        "    return mean_squared_error(y_true, y_pred, squared=False)\n",
        "\n",
        "rmse_scorer = make_scorer(rmse, greater_is_better=False)"
      ],
      "metadata": {
        "trusted": true,
        "execution": {
          "iopub.status.busy": "2025-05-06T17:10:14.446452Z",
          "iopub.execute_input": "2025-05-06T17:10:14.446721Z",
          "iopub.status.idle": "2025-05-06T17:10:14.450918Z",
          "shell.execute_reply.started": "2025-05-06T17:10:14.4467Z",
          "shell.execute_reply": "2025-05-06T17:10:14.450222Z"
        },
        "id": "E9G8JCl0H1LZ"
      },
      "outputs": [],
      "execution_count": null
    },
    {
      "cell_type": "code",
      "source": [
        "cat_model = CatBoostRegressor(verbose=0, task_type=\"GPU\")\n",
        "print(\"\\n🚀 Training Final Models...\")"
      ],
      "metadata": {
        "trusted": true,
        "execution": {
          "iopub.status.busy": "2025-05-06T17:10:14.484943Z",
          "iopub.execute_input": "2025-05-06T17:10:14.485323Z",
          "iopub.status.idle": "2025-05-06T17:10:14.51817Z",
          "shell.execute_reply.started": "2025-05-06T17:10:14.485306Z",
          "shell.execute_reply": "2025-05-06T17:10:14.517577Z"
        },
        "id": "E6vpgMLvH1Lj"
      },
      "outputs": [],
      "execution_count": null
    },
    {
      "cell_type": "code",
      "source": [
        "cat_model.fit(X_train, y_train)"
      ],
      "metadata": {
        "trusted": true,
        "execution": {
          "iopub.status.busy": "2025-05-06T17:10:15.123327Z",
          "iopub.execute_input": "2025-05-06T17:10:15.123557Z",
          "iopub.status.idle": "2025-05-06T17:11:10.912488Z",
          "shell.execute_reply.started": "2025-05-06T17:10:15.12354Z",
          "shell.execute_reply": "2025-05-06T17:11:10.911726Z"
        },
        "id": "CTA1ng0dH1Lm"
      },
      "outputs": [],
      "execution_count": null
    },
    {
      "cell_type": "markdown",
      "source": [
        "# Catboost hyperparameter tuning"
      ],
      "metadata": {
        "id": "undally_Jz5k"
      }
    },
    {
      "cell_type": "code",
      "source": [
        "# Split your data\n",
        "X_train_cat, X_val_cat, y_train_cat, y_val_cat = train_test_split(X_train, y_train, test_size=0.2, random_state=42)\n",
        "train_pool = Pool(X_train_cat, y_train_cat)\n",
        "val_pool = Pool(X_val_cat, y_val_cat)"
      ],
      "metadata": {
        "id": "-IVqvKASJ16b"
      },
      "execution_count": null,
      "outputs": []
    },
    {
      "cell_type": "code",
      "source": [
        "# Objective function for Optuna\n",
        "def objective(trial):\n",
        "    params = {\n",
        "        \"iterations\": 200,\n",
        "        \"learning_rate\": trial.suggest_float(\"learning_rate\", 0.01, 0.3),\n",
        "        \"depth\": trial.suggest_int(\"depth\", 4, 10),\n",
        "        \"l2_leaf_reg\": trial.suggest_float(\"l2_leaf_reg\", 1, 10),\n",
        "        \"bagging_temperature\": trial.suggest_float(\"bagging_temperature\", 0, 1),\n",
        "        \"random_strength\": trial.suggest_float(\"random_strength\", 1, 20),\n",
        "        \"loss_function\": \"RMSE\",\n",
        "        \"eval_metric\": \"RMSE\",\n",
        "        \"verbose\": 0,\n",
        "        \"random_seed\": 42,\n",
        "        \"early_stopping_rounds\": 50\n",
        "    }\n",
        "\n",
        "    model = CatBoostRegressor(**params)\n",
        "    model.fit(train_pool, eval_set=val_pool, use_best_model=True)\n",
        "    preds = model.predict(X_val_cat)\n",
        "    rmse = mean_squared_error(y_val_cat, preds, squared=False)\n",
        "    return rmse\n",
        "\n",
        "# Run Optuna\n",
        "study = optuna.create_study(direction=\"minimize\")\n",
        "study.optimize(objective, n_trials=50)"
      ],
      "metadata": {
        "id": "o8tSLdfEKVe_"
      },
      "execution_count": null,
      "outputs": []
    },
    {
      "cell_type": "markdown",
      "source": [
        "# Train and test predictions"
      ],
      "metadata": {
        "id": "ZRxyKsxLMYvc"
      }
    },
    {
      "cell_type": "code",
      "source": [
        "# Best model\n",
        "best_params = study.best_params\n",
        "final_model = CatBoostRegressor(**best_params)\n",
        "final_model.fit(train_pool, eval_set=val_pool, use_best_model=True)"
      ],
      "metadata": {
        "id": "uGBvw-8iKiTo"
      },
      "execution_count": null,
      "outputs": []
    },
    {
      "cell_type": "code",
      "source": [
        "cat_train_preds = final_model.predict(X_train)\n",
        "train_rmse = mean_squared_error(y_train, cat_train_preds, squared=False)\n",
        "print(f\"Train RMSE: {train_rmse:.5f}\") #Train RMSE: 0.50655"
      ],
      "metadata": {
        "id": "cpBw76i0KiMi"
      },
      "execution_count": null,
      "outputs": []
    },
    {
      "cell_type": "code",
      "source": [
        "cat_test_preds = final_model.predict(X_test)\n",
        "final_preds = (cat_test_preds)\n",
        "submission = test_df.copy()\n",
        "submission['label'] = final_preds\n",
        "submission[['filename', 'label']].to_csv(\"cat_tuned_submission.csv\", index=False)"
      ],
      "metadata": {
        "id": "nbrJX7F-LAjb"
      },
      "execution_count": null,
      "outputs": []
    }
  ]
}