{
  "metadata": {
    "kernelspec": {
      "language": "python",
      "display_name": "Python 3",
      "name": "python3"
    },
    "language_info": {
      "name": "python",
      "version": "3.11.11",
      "mimetype": "text/x-python",
      "codemirror_mode": {
        "name": "ipython",
        "version": 3
      },
      "pygments_lexer": "ipython3",
      "nbconvert_exporter": "python",
      "file_extension": ".py"
    },
    "kaggle": {
      "accelerator": "gpu",
      "dataSources": [
        {
          "sourceId": 97919,
          "databundleVersionId": 11872932,
          "sourceType": "competition"
        }
      ],
      "dockerImageVersionId": 31011,
      "isInternetEnabled": true,
      "language": "python",
      "sourceType": "notebook",
      "isGpuEnabled": true
    },
    "colab": {
      "provenance": []
    }
  },
  "nbformat_minor": 0,
  "nbformat": 4,
  "cells": [
    {
      "source": [
        "# IMPORTANT: SOME KAGGLE DATA SOURCES ARE PRIVATE\n",
        "# RUN THIS CELL IN ORDER TO IMPORT YOUR KAGGLE DATA SOURCES.\n",
        "import kagglehub\n",
        "kagglehub.login()\n",
        "shl_intern_hiring_assessment_path = kagglehub.competition_download('shl-intern-hiring-assessment')\n",
        "print('Data source import complete.')"
      ],
      "metadata": {
        "id": "hYe3NZUUHVcU"
      },
      "cell_type": "code",
      "outputs": [],
      "execution_count": null
    },
    {
      "cell_type": "markdown",
      "source": [
        "# Libraries"
      ],
      "metadata": {
        "id": "tC7FpnhEbM9K"
      }
    },
    {
      "cell_type": "code",
      "source": [
        "import os\n",
        "import torch\n",
        "import torchaudio\n",
        "import numpy as np\n",
        "import pandas as pd\n",
        "from tqdm import tqdm\n",
        "from xgboost import XGBRegressor\n",
        "from sklearn.metrics import mean_squared_error\n",
        "from transformers import WhisperProcessor, WhisperModel"
      ],
      "metadata": {
        "_uuid": "8f2839f25d086af736a60e9eeb907d3b93b6e0e5",
        "_cell_guid": "b1076dfc-b9ad-4769-8c92-a6c4dae69d19",
        "trusted": true,
        "execution": {
          "iopub.status.busy": "2025-05-03T12:00:20.90099Z",
          "iopub.execute_input": "2025-05-03T12:00:20.901218Z",
          "iopub.status.idle": "2025-05-03T12:00:45.113241Z",
          "shell.execute_reply.started": "2025-05-03T12:00:20.901194Z",
          "shell.execute_reply": "2025-05-03T12:00:45.112666Z"
        },
        "id": "vCvtpXdlHVcg",
        "outputId": "0d5cd48a-960e-426c-fecc-7ffba061cce2"
      },
      "outputs": [
        {
          "name": "stderr",
          "text": "2025-05-03 12:00:34.720371: E external/local_xla/xla/stream_executor/cuda/cuda_fft.cc:477] Unable to register cuFFT factory: Attempting to register factory for plugin cuFFT when one has already been registered\nWARNING: All log messages before absl::InitializeLog() is called are written to STDERR\nE0000 00:00:1746273634.902844      31 cuda_dnn.cc:8310] Unable to register cuDNN factory: Attempting to register factory for plugin cuDNN when one has already been registered\nE0000 00:00:1746273634.957868      31 cuda_blas.cc:1418] Unable to register cuBLAS factory: Attempting to register factory for plugin cuBLAS when one has already been registered\n",
          "output_type": "stream"
        }
      ],
      "execution_count": null
    },
    {
      "cell_type": "markdown",
      "source": [
        "# Configuration and model loading"
      ],
      "metadata": {
        "id": "z0s0HkkmbXhF"
      }
    },
    {
      "cell_type": "code",
      "source": [
        "BASE_DIR = \"/kaggle/input/shl-intern-hiring-assessment/Dataset\"\n",
        "TRAIN_CSV = os.path.join(BASE_DIR, \"train.csv\")\n",
        "TEST_CSV = os.path.join(BASE_DIR, \"test.csv\")\n",
        "TRAIN_AUDIO_DIR = os.path.join(BASE_DIR, \"audios\", \"train\")\n",
        "TEST_AUDIO_DIR = os.path.join(BASE_DIR, \"audios\", \"test\")\n",
        "OUTPUT_CSV = \"/kaggle/working/submission.csv\""
      ],
      "metadata": {
        "trusted": true,
        "execution": {
          "iopub.status.busy": "2025-05-03T12:00:52.565991Z",
          "iopub.execute_input": "2025-05-03T12:00:52.566272Z",
          "iopub.status.idle": "2025-05-03T12:00:52.570729Z",
          "shell.execute_reply.started": "2025-05-03T12:00:52.566252Z",
          "shell.execute_reply": "2025-05-03T12:00:52.569925Z"
        },
        "id": "d0VVYUUSHVcq"
      },
      "outputs": [],
      "execution_count": null
    },
    {
      "cell_type": "code",
      "source": [
        "# ---- DEVICE SETUP ----\n",
        "device = torch.device(\"cuda\" if torch.cuda.is_available() else \"cpu\")\n",
        "\n",
        "# ---- Load Whisper ----\n",
        "processor = WhisperProcessor.from_pretrained(\"openai/whisper-base\")\n",
        "model = WhisperModel.from_pretrained(\"openai/whisper-base\").to(device)\n",
        "model.eval()"
      ],
      "metadata": {
        "trusted": true,
        "execution": {
          "iopub.status.busy": "2025-05-03T12:01:02.793771Z",
          "iopub.execute_input": "2025-05-03T12:01:02.794361Z",
          "iopub.status.idle": "2025-05-03T12:01:11.475369Z",
          "shell.execute_reply.started": "2025-05-03T12:01:02.794335Z",
          "shell.execute_reply": "2025-05-03T12:01:11.474687Z"
        },
        "collapsed": true,
        "jupyter": {
          "outputs_hidden": true
        },
        "id": "88_LrdS7HVct",
        "outputId": "713ce57a-1745-4e24-b5ac-999b6dc81ff3",
        "colab": {
          "referenced_widgets": [
            "54c74cc14e7e4b3f851212c21057b3c5",
            "8cc644a3c4324e3492e3a8d6b5a74260",
            "a97347ea91b1406e958420bea8133115",
            "da2a326b201e4713b93cab864a01a2ab",
            "d85ec0385573427bb4c81488dde3ddd6",
            "ca88e17085a3463ea4dad30ff2171335",
            "fe15d0b48868419f8826c502fbb5b407",
            "82a3fccd88904e5c90856b94a46763ec",
            "de687696bc884bbfaa3adafa2b83e41e",
            "c4a6ef508b614b5b812d3f994461c269"
          ]
        }
      },
      "outputs": [
        {
          "output_type": "display_data",
          "data": {
            "text/plain": "preprocessor_config.json:   0%|          | 0.00/185k [00:00<?, ?B/s]",
            "application/vnd.jupyter.widget-view+json": {
              "version_major": 2,
              "version_minor": 0,
              "model_id": "54c74cc14e7e4b3f851212c21057b3c5"
            }
          },
          "metadata": {}
        },
        {
          "output_type": "display_data",
          "data": {
            "text/plain": "tokenizer_config.json:   0%|          | 0.00/283k [00:00<?, ?B/s]",
            "application/vnd.jupyter.widget-view+json": {
              "version_major": 2,
              "version_minor": 0,
              "model_id": "8cc644a3c4324e3492e3a8d6b5a74260"
            }
          },
          "metadata": {}
        },
        {
          "output_type": "display_data",
          "data": {
            "text/plain": "vocab.json:   0%|          | 0.00/836k [00:00<?, ?B/s]",
            "application/vnd.jupyter.widget-view+json": {
              "version_major": 2,
              "version_minor": 0,
              "model_id": "a97347ea91b1406e958420bea8133115"
            }
          },
          "metadata": {}
        },
        {
          "output_type": "display_data",
          "data": {
            "text/plain": "tokenizer.json:   0%|          | 0.00/2.48M [00:00<?, ?B/s]",
            "application/vnd.jupyter.widget-view+json": {
              "version_major": 2,
              "version_minor": 0,
              "model_id": "da2a326b201e4713b93cab864a01a2ab"
            }
          },
          "metadata": {}
        },
        {
          "output_type": "display_data",
          "data": {
            "text/plain": "merges.txt:   0%|          | 0.00/494k [00:00<?, ?B/s]",
            "application/vnd.jupyter.widget-view+json": {
              "version_major": 2,
              "version_minor": 0,
              "model_id": "d85ec0385573427bb4c81488dde3ddd6"
            }
          },
          "metadata": {}
        },
        {
          "output_type": "display_data",
          "data": {
            "text/plain": "normalizer.json:   0%|          | 0.00/52.7k [00:00<?, ?B/s]",
            "application/vnd.jupyter.widget-view+json": {
              "version_major": 2,
              "version_minor": 0,
              "model_id": "ca88e17085a3463ea4dad30ff2171335"
            }
          },
          "metadata": {}
        },
        {
          "output_type": "display_data",
          "data": {
            "text/plain": "added_tokens.json:   0%|          | 0.00/34.6k [00:00<?, ?B/s]",
            "application/vnd.jupyter.widget-view+json": {
              "version_major": 2,
              "version_minor": 0,
              "model_id": "fe15d0b48868419f8826c502fbb5b407"
            }
          },
          "metadata": {}
        },
        {
          "output_type": "display_data",
          "data": {
            "text/plain": "special_tokens_map.json:   0%|          | 0.00/2.19k [00:00<?, ?B/s]",
            "application/vnd.jupyter.widget-view+json": {
              "version_major": 2,
              "version_minor": 0,
              "model_id": "82a3fccd88904e5c90856b94a46763ec"
            }
          },
          "metadata": {}
        },
        {
          "output_type": "display_data",
          "data": {
            "text/plain": "config.json:   0%|          | 0.00/1.98k [00:00<?, ?B/s]",
            "application/vnd.jupyter.widget-view+json": {
              "version_major": 2,
              "version_minor": 0,
              "model_id": "de687696bc884bbfaa3adafa2b83e41e"
            }
          },
          "metadata": {}
        },
        {
          "output_type": "display_data",
          "data": {
            "text/plain": "model.safetensors:   0%|          | 0.00/290M [00:00<?, ?B/s]",
            "application/vnd.jupyter.widget-view+json": {
              "version_major": 2,
              "version_minor": 0,
              "model_id": "c4a6ef508b614b5b812d3f994461c269"
            }
          },
          "metadata": {}
        },
        {
          "execution_count": 4,
          "output_type": "execute_result",
          "data": {
            "text/plain": "WhisperModel(\n  (encoder): WhisperEncoder(\n    (conv1): Conv1d(80, 512, kernel_size=(3,), stride=(1,), padding=(1,))\n    (conv2): Conv1d(512, 512, kernel_size=(3,), stride=(2,), padding=(1,))\n    (embed_positions): Embedding(1500, 512)\n    (layers): ModuleList(\n      (0-5): 6 x WhisperEncoderLayer(\n        (self_attn): WhisperSdpaAttention(\n          (k_proj): Linear(in_features=512, out_features=512, bias=False)\n          (v_proj): Linear(in_features=512, out_features=512, bias=True)\n          (q_proj): Linear(in_features=512, out_features=512, bias=True)\n          (out_proj): Linear(in_features=512, out_features=512, bias=True)\n        )\n        (self_attn_layer_norm): LayerNorm((512,), eps=1e-05, elementwise_affine=True)\n        (activation_fn): GELUActivation()\n        (fc1): Linear(in_features=512, out_features=2048, bias=True)\n        (fc2): Linear(in_features=2048, out_features=512, bias=True)\n        (final_layer_norm): LayerNorm((512,), eps=1e-05, elementwise_affine=True)\n      )\n    )\n    (layer_norm): LayerNorm((512,), eps=1e-05, elementwise_affine=True)\n  )\n  (decoder): WhisperDecoder(\n    (embed_tokens): Embedding(51865, 512, padding_idx=50257)\n    (embed_positions): WhisperPositionalEmbedding(448, 512)\n    (layers): ModuleList(\n      (0-5): 6 x WhisperDecoderLayer(\n        (self_attn): WhisperSdpaAttention(\n          (k_proj): Linear(in_features=512, out_features=512, bias=False)\n          (v_proj): Linear(in_features=512, out_features=512, bias=True)\n          (q_proj): Linear(in_features=512, out_features=512, bias=True)\n          (out_proj): Linear(in_features=512, out_features=512, bias=True)\n        )\n        (activation_fn): GELUActivation()\n        (self_attn_layer_norm): LayerNorm((512,), eps=1e-05, elementwise_affine=True)\n        (encoder_attn): WhisperSdpaAttention(\n          (k_proj): Linear(in_features=512, out_features=512, bias=False)\n          (v_proj): Linear(in_features=512, out_features=512, bias=True)\n          (q_proj): Linear(in_features=512, out_features=512, bias=True)\n          (out_proj): Linear(in_features=512, out_features=512, bias=True)\n        )\n        (encoder_attn_layer_norm): LayerNorm((512,), eps=1e-05, elementwise_affine=True)\n        (fc1): Linear(in_features=512, out_features=2048, bias=True)\n        (fc2): Linear(in_features=2048, out_features=512, bias=True)\n        (final_layer_norm): LayerNorm((512,), eps=1e-05, elementwise_affine=True)\n      )\n    )\n    (layer_norm): LayerNorm((512,), eps=1e-05, elementwise_affine=True)\n  )\n)"
          },
          "metadata": {}
        }
      ],
      "execution_count": null
    },
    {
      "cell_type": "code",
      "source": [
        "# ---- Load datasets ----\n",
        "train_df = pd.read_csv(TRAIN_CSV)\n",
        "test_df = pd.read_csv(TEST_CSV)"
      ],
      "metadata": {
        "id": "5JsWwXGIblw9"
      },
      "execution_count": null,
      "outputs": []
    },
    {
      "cell_type": "markdown",
      "source": [
        "# Preprocessing and feature extraction from audio"
      ],
      "metadata": {
        "id": "59s1yUuqbhgf"
      }
    },
    {
      "cell_type": "code",
      "source": [
        "def extract_embedding(audio_path):\n",
        "    waveform, sr = torchaudio.load(audio_path)\n",
        "    if sr != 16000:\n",
        "        resampler = torchaudio.transforms.Resample(orig_freq=sr, new_freq=16000)\n",
        "        waveform = resampler(waveform)\n",
        "\n",
        "    waveform = waveform.mean(dim=0).numpy()  # convert to mono and to NumPy 1D\n",
        "    inputs = processor(waveform, sampling_rate=16000, return_tensors=\"pt\")\n",
        "    inputs = {k: v.to(device) for k, v in inputs.items()}\n",
        "\n",
        "    with torch.no_grad():\n",
        "        last_hidden = model.encoder(**inputs).last_hidden_state\n",
        "    return last_hidden.mean(dim=1).squeeze().cpu().numpy()\n"
      ],
      "metadata": {
        "trusted": true,
        "execution": {
          "iopub.status.busy": "2025-05-03T12:03:53.242915Z",
          "iopub.execute_input": "2025-05-03T12:03:53.243463Z",
          "iopub.status.idle": "2025-05-03T12:03:53.248753Z",
          "shell.execute_reply.started": "2025-05-03T12:03:53.24344Z",
          "shell.execute_reply": "2025-05-03T12:03:53.248144Z"
        },
        "id": "mPLCsnfsHVcw"
      },
      "outputs": [],
      "execution_count": null
    },
    {
      "cell_type": "code",
      "source": [
        "# ---- Extract embeddings ----\n",
        "def process_dataframe(df, audio_dir, extract_score=True):\n",
        "    features = []\n",
        "    labels = []\n",
        "    for idx, row in tqdm(df.iterrows(), total=len(df)):\n",
        "        audio_path = os.path.join(audio_dir, row['filename'])\n",
        "        emb = extract_embedding(audio_path)\n",
        "        features.append(emb)\n",
        "        if extract_score:\n",
        "            labels.append(row['label'])\n",
        "    return np.array(features), (np.array(labels) if extract_score else None)\n"
      ],
      "metadata": {
        "trusted": true,
        "execution": {
          "iopub.status.busy": "2025-05-03T12:03:56.465605Z",
          "iopub.execute_input": "2025-05-03T12:03:56.466169Z",
          "iopub.status.idle": "2025-05-03T12:03:56.477651Z",
          "shell.execute_reply.started": "2025-05-03T12:03:56.466139Z",
          "shell.execute_reply": "2025-05-03T12:03:56.477062Z"
        },
        "id": "l7-ZP6YLHVc3"
      },
      "outputs": [],
      "execution_count": null
    },
    {
      "cell_type": "code",
      "source": [
        "X_train, y_train = process_dataframe(train_df, TRAIN_AUDIO_DIR, extract_score=True)\n",
        "X_test, _ = process_dataframe(test_df, TEST_AUDIO_DIR, extract_score=False)"
      ],
      "metadata": {
        "trusted": true,
        "execution": {
          "iopub.status.busy": "2025-05-03T12:03:58.412341Z",
          "iopub.execute_input": "2025-05-03T12:03:58.412875Z",
          "iopub.status.idle": "2025-05-03T12:04:54.219542Z",
          "shell.execute_reply.started": "2025-05-03T12:03:58.41283Z",
          "shell.execute_reply": "2025-05-03T12:04:54.218771Z"
        },
        "id": "oLFunmm0HVc6",
        "outputId": "8c54c9a6-111e-4bdf-f860-61259dee80ba"
      },
      "outputs": [
        {
          "name": "stderr",
          "text": "100%|██████████| 444/444 [00:35<00:00, 12.44it/s]\n100%|██████████| 204/204 [00:20<00:00, 10.15it/s]\n",
          "output_type": "stream"
        }
      ],
      "execution_count": null
    },
    {
      "cell_type": "markdown",
      "source": [
        "# Training XGB Regressor\n",
        "\n",
        "*Note: The best hyperparameters are used.*\n",
        "*  I have tuned and compared the hyperparameter results seperately."
      ],
      "metadata": {
        "id": "_5PcJOyHb3-3"
      }
    },
    {
      "cell_type": "code",
      "source": [
        "# ---- Train XGBoost regression model ----\n",
        "regressor = XGBRegressor(\n",
        "    n_estimators=200,\n",
        "    learning_rate=0.05,\n",
        "    max_depth=6,\n",
        "    subsample=0.8,\n",
        "    colsample_bytree=0.8,\n",
        "    random_state=42\n",
        ")\n",
        "regressor.fit(X_train, y_train)"
      ],
      "metadata": {
        "trusted": true,
        "execution": {
          "iopub.status.busy": "2025-05-03T12:35:17.830113Z",
          "iopub.execute_input": "2025-05-03T12:35:17.830888Z",
          "iopub.status.idle": "2025-05-03T12:35:27.932223Z",
          "shell.execute_reply.started": "2025-05-03T12:35:17.830859Z",
          "shell.execute_reply": "2025-05-03T12:35:27.931547Z"
        },
        "id": "-jFbRDTuHVdW",
        "outputId": "93c121c0-b149-41ab-daa9-6bf7ded0b068"
      },
      "outputs": [
        {
          "execution_count": 28,
          "output_type": "execute_result",
          "data": {
            "text/plain": "XGBRegressor(base_score=None, booster=None, callbacks=None,\n             colsample_bylevel=None, colsample_bynode=None,\n             colsample_bytree=0.8, device=None, early_stopping_rounds=None,\n             enable_categorical=False, eval_metric=None, feature_types=None,\n             gamma=None, grow_policy=None, importance_type=None,\n             interaction_constraints=None, learning_rate=0.05, max_bin=None,\n             max_cat_threshold=None, max_cat_to_onehot=None,\n             max_delta_step=None, max_depth=6, max_leaves=None,\n             min_child_weight=None, missing=nan, monotone_constraints=None,\n             multi_strategy=None, n_estimators=200, n_jobs=None,\n             num_parallel_tree=None, random_state=42, ...)",
            "text/html": "<style>#sk-container-id-5 {color: black;background-color: white;}#sk-container-id-5 pre{padding: 0;}#sk-container-id-5 div.sk-toggleable {background-color: white;}#sk-container-id-5 label.sk-toggleable__label {cursor: pointer;display: block;width: 100%;margin-bottom: 0;padding: 0.3em;box-sizing: border-box;text-align: center;}#sk-container-id-5 label.sk-toggleable__label-arrow:before {content: \"▸\";float: left;margin-right: 0.25em;color: #696969;}#sk-container-id-5 label.sk-toggleable__label-arrow:hover:before {color: black;}#sk-container-id-5 div.sk-estimator:hover label.sk-toggleable__label-arrow:before {color: black;}#sk-container-id-5 div.sk-toggleable__content {max-height: 0;max-width: 0;overflow: hidden;text-align: left;background-color: #f0f8ff;}#sk-container-id-5 div.sk-toggleable__content pre {margin: 0.2em;color: black;border-radius: 0.25em;background-color: #f0f8ff;}#sk-container-id-5 input.sk-toggleable__control:checked~div.sk-toggleable__content {max-height: 200px;max-width: 100%;overflow: auto;}#sk-container-id-5 input.sk-toggleable__control:checked~label.sk-toggleable__label-arrow:before {content: \"▾\";}#sk-container-id-5 div.sk-estimator input.sk-toggleable__control:checked~label.sk-toggleable__label {background-color: #d4ebff;}#sk-container-id-5 div.sk-label input.sk-toggleable__control:checked~label.sk-toggleable__label {background-color: #d4ebff;}#sk-container-id-5 input.sk-hidden--visually {border: 0;clip: rect(1px 1px 1px 1px);clip: rect(1px, 1px, 1px, 1px);height: 1px;margin: -1px;overflow: hidden;padding: 0;position: absolute;width: 1px;}#sk-container-id-5 div.sk-estimator {font-family: monospace;background-color: #f0f8ff;border: 1px dotted black;border-radius: 0.25em;box-sizing: border-box;margin-bottom: 0.5em;}#sk-container-id-5 div.sk-estimator:hover {background-color: #d4ebff;}#sk-container-id-5 div.sk-parallel-item::after {content: \"\";width: 100%;border-bottom: 1px solid gray;flex-grow: 1;}#sk-container-id-5 div.sk-label:hover label.sk-toggleable__label {background-color: #d4ebff;}#sk-container-id-5 div.sk-serial::before {content: \"\";position: absolute;border-left: 1px solid gray;box-sizing: border-box;top: 0;bottom: 0;left: 50%;z-index: 0;}#sk-container-id-5 div.sk-serial {display: flex;flex-direction: column;align-items: center;background-color: white;padding-right: 0.2em;padding-left: 0.2em;position: relative;}#sk-container-id-5 div.sk-item {position: relative;z-index: 1;}#sk-container-id-5 div.sk-parallel {display: flex;align-items: stretch;justify-content: center;background-color: white;position: relative;}#sk-container-id-5 div.sk-item::before, #sk-container-id-5 div.sk-parallel-item::before {content: \"\";position: absolute;border-left: 1px solid gray;box-sizing: border-box;top: 0;bottom: 0;left: 50%;z-index: -1;}#sk-container-id-5 div.sk-parallel-item {display: flex;flex-direction: column;z-index: 1;position: relative;background-color: white;}#sk-container-id-5 div.sk-parallel-item:first-child::after {align-self: flex-end;width: 50%;}#sk-container-id-5 div.sk-parallel-item:last-child::after {align-self: flex-start;width: 50%;}#sk-container-id-5 div.sk-parallel-item:only-child::after {width: 0;}#sk-container-id-5 div.sk-dashed-wrapped {border: 1px dashed gray;margin: 0 0.4em 0.5em 0.4em;box-sizing: border-box;padding-bottom: 0.4em;background-color: white;}#sk-container-id-5 div.sk-label label {font-family: monospace;font-weight: bold;display: inline-block;line-height: 1.2em;}#sk-container-id-5 div.sk-label-container {text-align: center;}#sk-container-id-5 div.sk-container {/* jupyter's `normalize.less` sets `[hidden] { display: none; }` but bootstrap.min.css set `[hidden] { display: none !important; }` so we also need the `!important` here to be able to override the default hidden behavior on the sphinx rendered scikit-learn.org. See: https://github.com/scikit-learn/scikit-learn/issues/21755 */display: inline-block !important;position: relative;}#sk-container-id-5 div.sk-text-repr-fallback {display: none;}</style><div id=\"sk-container-id-5\" class=\"sk-top-container\"><div class=\"sk-text-repr-fallback\"><pre>XGBRegressor(base_score=None, booster=None, callbacks=None,\n             colsample_bylevel=None, colsample_bynode=None,\n             colsample_bytree=0.8, device=None, early_stopping_rounds=None,\n             enable_categorical=False, eval_metric=None, feature_types=None,\n             gamma=None, grow_policy=None, importance_type=None,\n             interaction_constraints=None, learning_rate=0.05, max_bin=None,\n             max_cat_threshold=None, max_cat_to_onehot=None,\n             max_delta_step=None, max_depth=6, max_leaves=None,\n             min_child_weight=None, missing=nan, monotone_constraints=None,\n             multi_strategy=None, n_estimators=200, n_jobs=None,\n             num_parallel_tree=None, random_state=42, ...)</pre><b>In a Jupyter environment, please rerun this cell to show the HTML representation or trust the notebook. <br />On GitHub, the HTML representation is unable to render, please try loading this page with nbviewer.org.</b></div><div class=\"sk-container\" hidden><div class=\"sk-item\"><div class=\"sk-estimator sk-toggleable\"><input class=\"sk-toggleable__control sk-hidden--visually\" id=\"sk-estimator-id-9\" type=\"checkbox\" checked><label for=\"sk-estimator-id-9\" class=\"sk-toggleable__label sk-toggleable__label-arrow\">XGBRegressor</label><div class=\"sk-toggleable__content\"><pre>XGBRegressor(base_score=None, booster=None, callbacks=None,\n             colsample_bylevel=None, colsample_bynode=None,\n             colsample_bytree=0.8, device=None, early_stopping_rounds=None,\n             enable_categorical=False, eval_metric=None, feature_types=None,\n             gamma=None, grow_policy=None, importance_type=None,\n             interaction_constraints=None, learning_rate=0.05, max_bin=None,\n             max_cat_threshold=None, max_cat_to_onehot=None,\n             max_delta_step=None, max_depth=6, max_leaves=None,\n             min_child_weight=None, missing=nan, monotone_constraints=None,\n             multi_strategy=None, n_estimators=200, n_jobs=None,\n             num_parallel_tree=None, random_state=42, ...)</pre></div></div></div></div></div>"
          },
          "metadata": {}
        }
      ],
      "execution_count": null
    },
    {
      "cell_type": "code",
      "source": [
        "# ---- Predictions ----\n",
        "train_preds = regressor.predict(X_train)\n",
        "test_preds = regressor.predict(X_test)"
      ],
      "metadata": {
        "trusted": true,
        "execution": {
          "iopub.status.busy": "2025-05-03T12:35:34.748993Z",
          "iopub.execute_input": "2025-05-03T12:35:34.749491Z",
          "iopub.status.idle": "2025-05-03T12:35:34.757639Z",
          "shell.execute_reply.started": "2025-05-03T12:35:34.74947Z",
          "shell.execute_reply": "2025-05-03T12:35:34.756931Z"
        },
        "id": "4pSMhGQZHVdY"
      },
      "outputs": [],
      "execution_count": null
    },
    {
      "cell_type": "markdown",
      "source": [
        "# Training RMSE calculation"
      ],
      "metadata": {
        "id": "Z35igtQJc66U"
      }
    },
    {
      "cell_type": "code",
      "source": [
        "# ---- RMSE ----\n",
        "train_rmse = np.sqrt(mean_squared_error(y_train, train_preds))\n",
        "print(f\"Train RMSE: {train_rmse:.4f}\")"
      ],
      "metadata": {
        "trusted": true,
        "execution": {
          "iopub.status.busy": "2025-05-03T12:35:36.412263Z",
          "iopub.execute_input": "2025-05-03T12:35:36.412529Z",
          "iopub.status.idle": "2025-05-03T12:35:36.417293Z",
          "shell.execute_reply.started": "2025-05-03T12:35:36.412509Z",
          "shell.execute_reply": "2025-05-03T12:35:36.416674Z"
        },
        "id": "039UrrVTHVda",
        "outputId": "0cc2870b-1a6e-4392-e895-442b14ea0579"
      },
      "outputs": [
        {
          "name": "stdout",
          "text": "Train RMSE: 0.0111\n",
          "output_type": "stream"
        }
      ],
      "execution_count": null
    },
    {
      "cell_type": "markdown",
      "source": [
        "# Saving test predictions"
      ],
      "metadata": {
        "id": "Rw4OVtpydKwb"
      }
    },
    {
      "cell_type": "code",
      "source": [
        "output_df = test_df.copy()\n",
        "output_df['label'] = test_preds\n",
        "output_df.to_csv(OUTPUT_CSV, index=False)\n",
        "print(f\"Predictions saved to {OUTPUT_CSV}\")"
      ],
      "metadata": {
        "trusted": true,
        "execution": {
          "iopub.status.busy": "2025-05-03T12:35:38.177355Z",
          "iopub.execute_input": "2025-05-03T12:35:38.177625Z",
          "iopub.status.idle": "2025-05-03T12:35:38.189672Z",
          "shell.execute_reply.started": "2025-05-03T12:35:38.177604Z",
          "shell.execute_reply": "2025-05-03T12:35:38.188996Z"
        },
        "id": "vQNYhp9WHVdc"
      },
      "outputs": [],
      "execution_count": null
    }
  ]
}